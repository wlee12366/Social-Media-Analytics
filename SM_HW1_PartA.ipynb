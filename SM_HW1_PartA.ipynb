{
 "cells": [
  {
   "cell_type": "code",
   "execution_count": 2,
   "metadata": {},
   "outputs": [],
   "source": [
    "import pandas as pd\n",
    "import numpy as np\n",
    "from pandas import DataFrame\n",
    "import time\n",
    "from sklearn.metrics import confusion_matrix\n",
    "from sklearn.linear_model import LogisticRegression\n",
    "from sklearn.model_selection import train_test_split\n",
    "from sklearn.svm import SVC\n",
    "from sklearn.neighbors import KNeighborsClassifier\n",
    "import warnings\n",
    "from sklearn.ensemble import RandomForestClassifier\n",
    "from sklearn.model_selection import GridSearchCV\n",
    "warnings.filterwarnings(\"ignore\")"
   ]
  },
  {
   "cell_type": "code",
   "execution_count": 4,
   "metadata": {},
   "outputs": [
    {
     "name": "stdout",
     "output_type": "stream",
     "text": [
      "[[694 202]\n",
      " [183 736]]\n",
      "78.788\n"
     ]
    },
    {
     "data": {
      "text/plain": [
       "{'max_depth': 8, 'n_estimators': 50}"
      ]
     },
     "execution_count": 4,
     "metadata": {},
     "output_type": "execute_result"
    }
   ],
   "source": [
    "Full_Data = pd.read_csv(\"train (1).csv\")\n",
    "\n",
    "# split data into test and train\n",
    "y = Full_Data[\"Choice\"]\n",
    "X_og = Full_Data.drop(\"Choice\", axis=1)\n",
    "X_train, X_test, y_train, y_test = train_test_split(X_og, y, test_size=0.33, random_state=42)\n",
    "\n",
    "\n",
    "\n",
    "#clf = LogisticRegression() ~ 75.1%\n",
    "\n",
    "#parameters = {'n_neighbors':[5,10,15,20,25,30,40,50,75,100]}\n",
    "#clf = GridSearchCV(KNeighborsClassifier(), parameters, cv=5)\n",
    "\n",
    "parameters = {'n_estimators':[5,10,15,20,25,30,40,50], 'max_depth':[None, 5,10,6,7,8,9]}\n",
    "clf = RandomForestClassifier() # 78.017% 25, 5\n",
    "clf = GridSearchCV(clf, parameters, cv=5)\n",
    "\n",
    "clf.fit(X_train,y_train)\n",
    "\n",
    "conf = confusion_matrix(y_test,clf.predict(X_test))\n",
    "print(conf)\n",
    "        # All correct predicitions / all  ---- accuracy\n",
    "print(round((conf[0][0] + conf[1][1])/len(y_test)*100,3))\n",
    "#print(clf.feature_importances_)\n",
    "clf.best_params_"
   ]
  },
  {
   "cell_type": "code",
   "execution_count": 3,
   "metadata": {},
   "outputs": [],
   "source": [
    "col_names = list(Full_Data.columns)\n",
    "A_B = DataFrame()\n",
    "for i in range(1,12):\n",
    "    # Takes A - B for all columns: Pos number indicates A has more X than B\n",
    "    A_B[\"_\".join(col_names[i].split(\"_\")[1:])] = pd.Series(Full_Data[col_names[i]] - Full_Data[col_names[i+11]])\n",
    "A_B[\"Choice\"] = Full_Data[\"Choice\"] # 0 if B, 1 if A"
   ]
  },
  {
   "cell_type": "code",
   "execution_count": 32,
   "metadata": {},
   "outputs": [
    {
     "name": "stdout",
     "output_type": "stream",
     "text": [
      "[[672 224]\n",
      " [210 709]]\n",
      "76.088\n"
     ]
    },
    {
     "data": {
      "text/plain": [
       "{'n_neighbors': 50}"
      ]
     },
     "execution_count": 32,
     "metadata": {},
     "output_type": "execute_result"
    }
   ],
   "source": [
    "y = A_B[\"Choice\"]\n",
    "X_ab = A_B.drop(\"Choice\", axis=1)\n",
    "X_train, X_test, y_train, y_test = train_test_split(X_ab, y, test_size=0.33, random_state=42)\n",
    "\n",
    "#clf = LogisticRegression() ~ 74.6%\n",
    "parameters = {'n_neighbors':[5,10,15,20,25,30,40,50,75,100]}\n",
    "clf = GridSearchCV(KNeighborsClassifier(), parameters, cv=5)\n",
    "\n",
    "#parameters = {'n_estimators':[5,10,15,20,25], 'max_depth':[None, 5,10,20]}\n",
    "#clf = GridSearchCV(RandomForestClassifier(), parameters, cv=5) # 74.43\n",
    "\n",
    "clf.fit(X_train,y_train)\n",
    "\n",
    "conf = confusion_matrix(y_test,clf.predict(X_test))\n",
    "print(conf)\n",
    "        # All correct predicitions / all  ---- accuracy\n",
    "print(round((conf[0][0] + conf[1][1])/len(y_test)*100,3))\n",
    "clf.best_params_"
   ]
  },
  {
   "cell_type": "code",
   "execution_count": 15,
   "metadata": {},
   "outputs": [],
   "source": [
    "# Scoring method\n",
    "Scoring = Full_Data[[\"A_posts\",\"B_posts\",\"A_network_feature_1\",\"A_network_feature_2\",\"A_network_feature_3\",\n",
    "                   \"B_network_feature_1\",\"B_network_feature_2\",\"B_network_feature_3\"]]\n",
    "Scoring[\"AFollowerRatio\"] = Full_Data[\"A_follower_count\"] / Full_Data[\"A_following_count\"]\n",
    "Scoring[\"AMentionRatio\"] = Full_Data[\"A_mentions_received\"] / Full_Data[\"A_mentions_sent\"]\n",
    "Scoring[\"BMentionRatio\"] = Full_Data[\"B_mentions_received\"] / Full_Data[\"B_mentions_sent\"]\n",
    "Scoring[\"BFollowerRatio\"] = Full_Data[\"B_follower_count\"] / Full_Data[\"B_following_count\"]\n",
    "Scoring[\"Choice\"] = Full_Data[\"Choice\"]\n",
    "\n",
    "Scoring = Scoring.replace([np.inf, -np.inf], np.nan)\n",
    "Scoring= Scoring.dropna()\n",
    "\n",
    "y_scor = Scoring[\"Choice\"]\n",
    "X_scor = Scoring.drop(\"Choice\", axis=1)\n",
    "X_train, X_test, y_train, y_test = train_test_split(X_scor, y_scor, test_size=0.33, random_state=42)\n",
    "#clf = LogisticRegression() #~ 65.2%\n",
    "#clf = KNeighborsClassifier(25) #~ 71.1%\n",
    "clf = RandomForestClassifier() # 74.45%\n",
    "\n",
    "clf.fit(X_train,y_train)\n",
    "\n",
    "conf = confusion_matrix(y_test,clf.predict(X_test))\n",
    "print(conf)\n",
    "        # All correct predicitions / all  ---- accuracy\n",
    "print(round((conf[0][0] + conf[1][1])/len(y_test)*100,3))"
   ]
  },
  {
   "cell_type": "code",
   "execution_count": 50,
   "metadata": {},
   "outputs": [
    {
     "name": "stdout",
     "output_type": "stream",
     "text": [
      "[[686 210]\n",
      " [190 729]]\n",
      "Accuracy: 77.96%\n",
      "\n",
      "Feature Importance\n",
      "A_follower_count : 0.11299003843218015\n",
      "A_following_count : 0.006611782838164033\n",
      "A_listed_count : 0.11207479258319117\n",
      "A_mentions_received : 0.07459895854607233\n",
      "A_retweets_received : 0.032751623845442245\n",
      "A_mentions_sent : 0.00984870381116736\n",
      "A_retweets_sent : 0.003970567925548974\n",
      "A_posts : 0.020647289634877507\n",
      "A_network_feature_1 : 0.08380975683051839\n",
      "A_network_feature_2 : 0.007770089128504299\n",
      "A_network_feature_3 : 0.02326195120125917\n",
      "B_follower_count : 0.05844319853987951\n",
      "B_following_count : 0.005801572167754495\n",
      "B_listed_count : 0.07490757922051648\n",
      "B_mentions_received : 0.08009802842978025\n",
      "B_retweets_received : 0.04575135794163221\n",
      "B_mentions_sent : 0.021052883431614842\n",
      "B_retweets_sent : 0.01640181122753738\n",
      "B_posts : 0.023433836590358133\n",
      "B_network_feature_1 : 0.1618511074935998\n",
      "B_network_feature_2 : 0.016742959507991907\n",
      "B_network_feature_3 : 0.007180110672409435\n"
     ]
    }
   ],
   "source": [
    "y = Full_Data[\"Choice\"]\n",
    "X_og = Full_Data.drop(\"Choice\", axis=1)\n",
    "X_train, X_test, y_train, y_test = train_test_split(X_og, y, test_size=0.33, random_state=42)\n",
    "#parameters = {'n_estimators':[5,10,15,20,25,30,40,50], 'max_depth':[None, 5,10,6,7,8,9]}\n",
    " # 78.017% 25, 5\n",
    "#clf = GridSearchCV(clf, parameters, cv=5)\n",
    "\n",
    "clf = RandomForestClassifier(n_estimators = 25, max_depth = 5)\n",
    "clf.fit(X_train,y_train)\n",
    "\n",
    "conf = confusion_matrix(y_test,clf.predict(X_test))\n",
    "print(conf)\n",
    "print(\"Accuracy: \" + str(round((conf[0][0] + conf[1][1]) /len(X_test) * 100,2)) + \"%\\n\")\n",
    "print(\"Feature Importance\")\n",
    "for i,c in enumerate(X_train.columns):\n",
    "    print(str(c) +\" : \"+ str(clf.feature_importances_[i]))"
   ]
  },
  {
   "cell_type": "code",
   "execution_count": 15,
   "metadata": {},
   "outputs": [],
   "source": [
    "# calculate financal value\n",
    "# Assuming no influnencers\n",
    "cost = 5\n",
    "profit = 10\n",
    "buyingProb = .0001\n",
    "buyingProb2 = .00015\n",
    "cost_df = Full_Data[[\"Choice\",\"A_follower_count\",\"B_follower_count\"]]\n",
    "           # Revenue = #followers* prob of buying* 10                # cost\n",
    "    # without analytics\n",
    "profit_A_wo = cost_df[\"A_follower_count\"] * buyingProb * profit - cost\n",
    "profit_B_wo = cost_df[\"B_follower_count\"] * buyingProb * profit - cost\n",
    "    # perfect analytics                      \n",
    "                                                        # two tweets              1 = A, 0 = B\n",
    "profit_A_pa = (cost_df[\"A_follower_count\"] * buyingProb2 * profit - 2*cost) * cost_df[\"Choice\"]\n",
    "profit_B_pa = (cost_df[\"B_follower_count\"] * buyingProb2 * profit - 2*cost) * abs(1 - cost_df[\"Choice\"])\n"
   ]
  },
  {
   "cell_type": "code",
   "execution_count": 16,
   "metadata": {},
   "outputs": [
    {
     "data": {
      "text/plain": [
       "7621773.756500005"
      ]
     },
     "execution_count": 16,
     "metadata": {},
     "output_type": "execute_result"
    }
   ],
   "source": [
    "# Analytics\n",
    "pred = clf.predict(Full_Data.drop(\"Choice\",axis=1))\n",
    "\n",
    "revenue_2 = 0\n",
    "\n",
    "for i in range(0, len(Full_Data)):\n",
    "    if Full_Data.iloc[i, 0] == pred[i]:\n",
    "        if Full_Data.iloc[i, 0] == 0:\n",
    "            rev = buyingProb2 * Full_Data.iloc[i,12] * profit\n",
    "        else:\n",
    "            rev = buyingProb2 * Full_Data.iloc[i,1] * profit\n",
    "    else:\n",
    "        rev = 0\n",
    "    revenue_2 += rev\n",
    "profit_2 = revenue_2 - len(Full_Data) * 2*cost    \n",
    "profit_2"
   ]
  },
  {
   "cell_type": "code",
   "execution_count": 18,
   "metadata": {},
   "outputs": [
    {
     "name": "stdout",
     "output_type": "stream",
     "text": [
      "Total profit without analytics is $7289539.46\n",
      "Total profit with perfect analytics is $8009852.89\n",
      "Total profit using the model is $7621773.76\n"
     ]
    }
   ],
   "source": [
    "print(\"Total profit without analytics is $\" +str(round(sum(profit_A_wo + profit_B_wo),2)))\n",
    "print(\"Total profit with perfect analytics is $\" +str(round(sum(profit_A_pa + profit_B_pa),2)))\n",
    "print(\"Total profit using the model is $\" +str(round(profit_2,2)))"
   ]
  },
  {
   "cell_type": "code",
   "execution_count": 85,
   "metadata": {},
   "outputs": [
    {
     "data": {
      "text/plain": [
       "0         -0.0000\n",
       "1          0.0000\n",
       "2          0.9650\n",
       "3         -0.0000\n",
       "4         58.3835\n",
       "5        418.6025\n",
       "6          0.0000\n",
       "7          0.0000\n",
       "8          0.0000\n",
       "9          0.0000\n",
       "10        -0.0000\n",
       "11        -0.0000\n",
       "12        24.8450\n",
       "13      6472.2230\n",
       "14        -0.0000\n",
       "15        63.0665\n",
       "16        -0.0000\n",
       "17         0.0000\n",
       "18       387.8870\n",
       "19      1075.7000\n",
       "20         0.0000\n",
       "21      7411.1150\n",
       "22         0.0000\n",
       "23        -0.0000\n",
       "24         0.0000\n",
       "25         0.0000\n",
       "26      4152.1850\n",
       "27       138.1820\n",
       "28        76.7600\n",
       "29        -0.0000\n",
       "          ...    \n",
       "5470      -0.0000\n",
       "5471       0.0000\n",
       "5472       0.0000\n",
       "5473       0.0000\n",
       "5474       0.0000\n",
       "5475      86.1890\n",
       "5476      -0.0000\n",
       "5477     186.2750\n",
       "5478      60.5090\n",
       "5479      -6.1390\n",
       "5480      -0.0000\n",
       "5481     413.4575\n",
       "5482      -0.0000\n",
       "5483    4612.2575\n",
       "5484    2212.0685\n",
       "5485     671.7710\n",
       "5486       0.0000\n",
       "5487    4943.7200\n",
       "5488     295.6820\n",
       "5489      -0.0000\n",
       "5490       0.0000\n",
       "5491      -0.0000\n",
       "5492      -0.0000\n",
       "5493       0.0000\n",
       "5494      28.0400\n",
       "5495       0.0000\n",
       "5496      -0.0000\n",
       "5497      13.0775\n",
       "5498       0.0000\n",
       "5499      -0.0000\n",
       "Name: A_follower_count, Length: 5500, dtype: float64"
      ]
     },
     "execution_count": 85,
     "metadata": {},
     "output_type": "execute_result"
    }
   ],
   "source": [
    "profit_A_wm"
   ]
  },
  {
   "cell_type": "code",
   "execution_count": null,
   "metadata": {},
   "outputs": [],
   "source": []
  }
 ],
 "metadata": {
  "kernelspec": {
   "display_name": "Python 3",
   "language": "python",
   "name": "python3"
  },
  "language_info": {
   "codemirror_mode": {
    "name": "ipython",
    "version": 3
   },
   "file_extension": ".py",
   "mimetype": "text/x-python",
   "name": "python",
   "nbconvert_exporter": "python",
   "pygments_lexer": "ipython3",
   "version": "3.6.5"
  }
 },
 "nbformat": 4,
 "nbformat_minor": 2
}
